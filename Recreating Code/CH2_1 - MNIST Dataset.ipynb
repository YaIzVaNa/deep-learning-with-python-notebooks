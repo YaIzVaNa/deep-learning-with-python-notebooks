{
 "cells": [
  {
   "cell_type": "markdown",
   "metadata": {},
   "source": [
    "# Chapter 2.1 - Deep Learning with Python - A look at the MNIST dataset"
   ]
  },
  {
   "cell_type": "markdown",
   "metadata": {},
   "source": [
    "### Import the dataset included in keras and get familiarized with the data representation"
   ]
  },
  {
   "cell_type": "code",
   "execution_count": 6,
   "metadata": {},
   "outputs": [
    {
     "name": "stderr",
     "output_type": "stream",
     "text": [
      "Using TensorFlow backend.\n",
      "C:\\Anaconda\\lib\\site-packages\\tensorflow\\python\\framework\\dtypes.py:516: FutureWarning: Passing (type, 1) or '1type' as a synonym of type is deprecated; in a future version of numpy, it will be understood as (type, (1,)) / '(1,)type'.\n",
      "  _np_qint8 = np.dtype([(\"qint8\", np.int8, 1)])\n",
      "C:\\Anaconda\\lib\\site-packages\\tensorflow\\python\\framework\\dtypes.py:517: FutureWarning: Passing (type, 1) or '1type' as a synonym of type is deprecated; in a future version of numpy, it will be understood as (type, (1,)) / '(1,)type'.\n",
      "  _np_quint8 = np.dtype([(\"quint8\", np.uint8, 1)])\n",
      "C:\\Anaconda\\lib\\site-packages\\tensorflow\\python\\framework\\dtypes.py:518: FutureWarning: Passing (type, 1) or '1type' as a synonym of type is deprecated; in a future version of numpy, it will be understood as (type, (1,)) / '(1,)type'.\n",
      "  _np_qint16 = np.dtype([(\"qint16\", np.int16, 1)])\n",
      "C:\\Anaconda\\lib\\site-packages\\tensorflow\\python\\framework\\dtypes.py:519: FutureWarning: Passing (type, 1) or '1type' as a synonym of type is deprecated; in a future version of numpy, it will be understood as (type, (1,)) / '(1,)type'.\n",
      "  _np_quint16 = np.dtype([(\"quint16\", np.uint16, 1)])\n",
      "C:\\Anaconda\\lib\\site-packages\\tensorflow\\python\\framework\\dtypes.py:520: FutureWarning: Passing (type, 1) or '1type' as a synonym of type is deprecated; in a future version of numpy, it will be understood as (type, (1,)) / '(1,)type'.\n",
      "  _np_qint32 = np.dtype([(\"qint32\", np.int32, 1)])\n",
      "C:\\Anaconda\\lib\\site-packages\\tensorflow\\python\\framework\\dtypes.py:525: FutureWarning: Passing (type, 1) or '1type' as a synonym of type is deprecated; in a future version of numpy, it will be understood as (type, (1,)) / '(1,)type'.\n",
      "  np_resource = np.dtype([(\"resource\", np.ubyte, 1)])\n",
      "C:\\Anaconda\\lib\\site-packages\\tensorboard\\compat\\tensorflow_stub\\dtypes.py:541: FutureWarning: Passing (type, 1) or '1type' as a synonym of type is deprecated; in a future version of numpy, it will be understood as (type, (1,)) / '(1,)type'.\n",
      "  _np_qint8 = np.dtype([(\"qint8\", np.int8, 1)])\n",
      "C:\\Anaconda\\lib\\site-packages\\tensorboard\\compat\\tensorflow_stub\\dtypes.py:542: FutureWarning: Passing (type, 1) or '1type' as a synonym of type is deprecated; in a future version of numpy, it will be understood as (type, (1,)) / '(1,)type'.\n",
      "  _np_quint8 = np.dtype([(\"quint8\", np.uint8, 1)])\n",
      "C:\\Anaconda\\lib\\site-packages\\tensorboard\\compat\\tensorflow_stub\\dtypes.py:543: FutureWarning: Passing (type, 1) or '1type' as a synonym of type is deprecated; in a future version of numpy, it will be understood as (type, (1,)) / '(1,)type'.\n",
      "  _np_qint16 = np.dtype([(\"qint16\", np.int16, 1)])\n",
      "C:\\Anaconda\\lib\\site-packages\\tensorboard\\compat\\tensorflow_stub\\dtypes.py:544: FutureWarning: Passing (type, 1) or '1type' as a synonym of type is deprecated; in a future version of numpy, it will be understood as (type, (1,)) / '(1,)type'.\n",
      "  _np_quint16 = np.dtype([(\"quint16\", np.uint16, 1)])\n",
      "C:\\Anaconda\\lib\\site-packages\\tensorboard\\compat\\tensorflow_stub\\dtypes.py:545: FutureWarning: Passing (type, 1) or '1type' as a synonym of type is deprecated; in a future version of numpy, it will be understood as (type, (1,)) / '(1,)type'.\n",
      "  _np_qint32 = np.dtype([(\"qint32\", np.int32, 1)])\n",
      "C:\\Anaconda\\lib\\site-packages\\tensorboard\\compat\\tensorflow_stub\\dtypes.py:550: FutureWarning: Passing (type, 1) or '1type' as a synonym of type is deprecated; in a future version of numpy, it will be understood as (type, (1,)) / '(1,)type'.\n",
      "  np_resource = np.dtype([(\"resource\", np.ubyte, 1)])\n"
     ]
    }
   ],
   "source": [
    "from keras.datasets import mnist\n",
    "\n",
    "(train_images,train_labels), (test_images,test_labels) = mnist.load_data()"
   ]
  },
  {
   "cell_type": "code",
   "execution_count": 7,
   "metadata": {},
   "outputs": [
    {
     "data": {
      "text/plain": [
       "(60000, 28, 28)"
      ]
     },
     "execution_count": 7,
     "metadata": {},
     "output_type": "execute_result"
    }
   ],
   "source": [
    "train_images.shape"
   ]
  },
  {
   "cell_type": "markdown",
   "metadata": {},
   "source": [
    "Note the dimensions, exploring the dataset we can see its an array storing rgb values, size of images are 28x28 px"
   ]
  },
  {
   "cell_type": "code",
   "execution_count": 8,
   "metadata": {},
   "outputs": [
    {
     "data": {
      "text/plain": [
       "(28, 28)"
      ]
     },
     "execution_count": 8,
     "metadata": {},
     "output_type": "execute_result"
    }
   ],
   "source": [
    "train_images[0].shape"
   ]
  },
  {
   "cell_type": "code",
   "execution_count": 9,
   "metadata": {},
   "outputs": [
    {
     "data": {
      "text/plain": [
       "5"
      ]
     },
     "execution_count": 9,
     "metadata": {},
     "output_type": "execute_result"
    }
   ],
   "source": [
    "train_labels[0]"
   ]
  },
  {
   "cell_type": "markdown",
   "metadata": {},
   "source": [
    "Made a small visualization loop for the digits"
   ]
  },
  {
   "cell_type": "code",
   "execution_count": 10,
   "metadata": {},
   "outputs": [
    {
     "name": "stdout",
     "output_type": "stream",
     "text": [
      "                                                        \n",
      "\n",
      "                                                        \n",
      "\n",
      "                                                        \n",
      "\n",
      "                                                        \n",
      "\n",
      "                                                        \n",
      "\n",
      "                        \u001b[0;22;40m \u001b[0m \u001b[0;22;40m \u001b[0m \u001b[0;22;40m \u001b[0m \u001b[0;22;40m \u001b[0m \u001b[0;22;40m \u001b[0m \u001b[0;22;40m \u001b[0m \u001b[0;22;40m \u001b[0m \u001b[0;22;40m \u001b[0m \u001b[0;22;40m \u001b[0m \u001b[0;22;40m \u001b[0m \u001b[0;22;40m \u001b[0m \u001b[0;22;40m \u001b[0m         \n",
      "\n",
      "                \u001b[0;22;40m \u001b[0m \u001b[0;22;40m \u001b[0m \u001b[0;22;40m \u001b[0m \u001b[0;22;40m \u001b[0m \u001b[0;22;40m \u001b[0m \u001b[0;22;40m \u001b[0m \u001b[0;22;40m \u001b[0m \u001b[0;22;40m \u001b[0m \u001b[0;22;40m \u001b[0m \u001b[0;22;40m \u001b[0m \u001b[0;22;40m \u001b[0m \u001b[0;22;40m \u001b[0m \u001b[0;22;40m \u001b[0m \u001b[0;22;40m \u001b[0m \u001b[0;22;40m \u001b[0m \u001b[0;22;40m \u001b[0m         \n",
      "\n",
      "              \u001b[0;22;40m \u001b[0m \u001b[0;22;40m \u001b[0m \u001b[0;22;40m \u001b[0m \u001b[0;22;40m \u001b[0m \u001b[0;22;40m \u001b[0m \u001b[0;22;40m \u001b[0m \u001b[0;22;40m \u001b[0m \u001b[0;22;40m \u001b[0m \u001b[0;22;40m \u001b[0m \u001b[0;22;40m \u001b[0m \u001b[0;22;40m \u001b[0m \u001b[0;22;40m \u001b[0m \u001b[0;22;40m \u001b[0m \u001b[0;22;40m \u001b[0m \u001b[0;22;40m \u001b[0m \u001b[0;22;40m \u001b[0m           \n",
      "\n",
      "              \u001b[0;22;40m \u001b[0m \u001b[0;22;40m \u001b[0m \u001b[0;22;40m \u001b[0m \u001b[0;22;40m \u001b[0m \u001b[0;22;40m \u001b[0m \u001b[0;22;40m \u001b[0m \u001b[0;22;40m \u001b[0m \u001b[0;22;40m \u001b[0m \u001b[0;22;40m \u001b[0m \u001b[0;22;40m \u001b[0m \u001b[0;22;40m \u001b[0m                     \n",
      "\n",
      "                \u001b[0;22;40m \u001b[0m \u001b[0;22;40m \u001b[0m \u001b[0;22;40m \u001b[0m \u001b[0;22;40m \u001b[0m \u001b[0;22;40m \u001b[0m \u001b[0;22;40m \u001b[0m \u001b[0;22;40m \u001b[0m   \u001b[0;22;40m \u001b[0m \u001b[0;22;40m \u001b[0m                     \n",
      "\n",
      "                  \u001b[0;22;40m \u001b[0m \u001b[0;22;40m \u001b[0m \u001b[0;22;40m \u001b[0m \u001b[0;22;40m \u001b[0m \u001b[0;22;40m \u001b[0m                             \n",
      "\n",
      "                      \u001b[0;22;40m \u001b[0m \u001b[0;22;40m \u001b[0m \u001b[0;22;40m \u001b[0m \u001b[0;22;40m \u001b[0m                           \n",
      "\n",
      "                      \u001b[0;22;40m \u001b[0m \u001b[0;22;40m \u001b[0m \u001b[0;22;40m \u001b[0m \u001b[0;22;40m \u001b[0m                           \n",
      "\n",
      "                        \u001b[0;22;40m \u001b[0m \u001b[0;22;40m \u001b[0m \u001b[0;22;40m \u001b[0m \u001b[0;22;40m \u001b[0m \u001b[0;22;40m \u001b[0m \u001b[0;22;40m \u001b[0m                     \n",
      "\n",
      "                          \u001b[0;22;40m \u001b[0m \u001b[0;22;40m \u001b[0m \u001b[0;22;40m \u001b[0m \u001b[0;22;40m \u001b[0m \u001b[0;22;40m \u001b[0m \u001b[0;22;40m \u001b[0m                   \n",
      "\n",
      "                            \u001b[0;22;40m \u001b[0m \u001b[0;22;40m \u001b[0m \u001b[0;22;40m \u001b[0m \u001b[0;22;40m \u001b[0m \u001b[0;22;40m \u001b[0m \u001b[0;22;40m \u001b[0m                 \n",
      "\n",
      "                              \u001b[0;22;40m \u001b[0m \u001b[0;22;40m \u001b[0m \u001b[0;22;40m \u001b[0m \u001b[0;22;40m \u001b[0m \u001b[0;22;40m \u001b[0m                 \n",
      "\n",
      "                                  \u001b[0;22;40m \u001b[0m \u001b[0;22;40m \u001b[0m \u001b[0;22;40m \u001b[0m \u001b[0;22;40m \u001b[0m               \n",
      "\n",
      "                            \u001b[0;22;40m \u001b[0m \u001b[0;22;40m \u001b[0m \u001b[0;22;40m \u001b[0m \u001b[0;22;40m \u001b[0m \u001b[0;22;40m \u001b[0m \u001b[0;22;40m \u001b[0m \u001b[0;22;40m \u001b[0m               \n",
      "\n",
      "                        \u001b[0;22;40m \u001b[0m \u001b[0;22;40m \u001b[0m \u001b[0;22;40m \u001b[0m \u001b[0;22;40m \u001b[0m \u001b[0;22;40m \u001b[0m \u001b[0;22;40m \u001b[0m \u001b[0;22;40m \u001b[0m \u001b[0;22;40m \u001b[0m                 \n",
      "\n",
      "                    \u001b[0;22;40m \u001b[0m \u001b[0;22;40m \u001b[0m \u001b[0;22;40m \u001b[0m \u001b[0;22;40m \u001b[0m \u001b[0;22;40m \u001b[0m \u001b[0;22;40m \u001b[0m \u001b[0;22;40m \u001b[0m \u001b[0;22;40m \u001b[0m \u001b[0;22;40m \u001b[0m                   \n",
      "\n",
      "                \u001b[0;22;40m \u001b[0m \u001b[0;22;40m \u001b[0m \u001b[0;22;40m \u001b[0m \u001b[0;22;40m \u001b[0m \u001b[0;22;40m \u001b[0m \u001b[0;22;40m \u001b[0m \u001b[0;22;40m \u001b[0m \u001b[0;22;40m \u001b[0m \u001b[0;22;40m \u001b[0m \u001b[0;22;40m \u001b[0m                     \n",
      "\n",
      "            \u001b[0;22;40m \u001b[0m \u001b[0;22;40m \u001b[0m \u001b[0;22;40m \u001b[0m \u001b[0;22;40m \u001b[0m \u001b[0;22;40m \u001b[0m \u001b[0;22;40m \u001b[0m \u001b[0;22;40m \u001b[0m \u001b[0;22;40m \u001b[0m \u001b[0;22;40m \u001b[0m \u001b[0;22;40m \u001b[0m                         \n",
      "\n",
      "        \u001b[0;22;40m \u001b[0m \u001b[0;22;40m \u001b[0m \u001b[0;22;40m \u001b[0m \u001b[0;22;40m \u001b[0m \u001b[0;22;40m \u001b[0m \u001b[0;22;40m \u001b[0m \u001b[0;22;40m \u001b[0m \u001b[0;22;40m \u001b[0m \u001b[0;22;40m \u001b[0m \u001b[0;22;40m \u001b[0m                             \n",
      "\n",
      "        \u001b[0;22;40m \u001b[0m \u001b[0;22;40m \u001b[0m \u001b[0;22;40m \u001b[0m \u001b[0;22;40m \u001b[0m \u001b[0;22;40m \u001b[0m \u001b[0;22;40m \u001b[0m \u001b[0;22;40m \u001b[0m \u001b[0;22;40m \u001b[0m                                 \n",
      "\n",
      "                                                        \n",
      "\n",
      "                                                        \n",
      "\n",
      "                                                        \n",
      "\n"
     ]
    }
   ],
   "source": [
    "for idx,i in enumerate(train_images[0]):\n",
    "    for j in i:\n",
    "        if j!=0:\n",
    "            print(\"\\x1b[0;22;40m \\x1b[0m\",end=' ')\n",
    "        else:\n",
    "            print(\" \",end=' ')\n",
    "    print(\"\\n\")"
   ]
  },
  {
   "cell_type": "markdown",
   "metadata": {},
   "source": [
    "### Now we build the deep neural network with keras"
   ]
  },
  {
   "cell_type": "code",
   "execution_count": 11,
   "metadata": {},
   "outputs": [],
   "source": [
    "from keras import models\n",
    "from keras import layers"
   ]
  },
  {
   "cell_type": "markdown",
   "metadata": {},
   "source": [
    "Set up layers\n"
   ]
  },
  {
   "cell_type": "code",
   "execution_count": 12,
   "metadata": {},
   "outputs": [],
   "source": [
    "network = models.Sequential()\n",
    "network.add(layers.Dense(512, activation='relu', input_shape=(28*28,)))\n",
    "network.add(layers.Dense(512, activation='relu', input_shape=(28*28,)))\n",
    "network.add(layers.Dense(10, activation='softmax'))"
   ]
  },
  {
   "cell_type": "markdown",
   "metadata": {},
   "source": [
    "Set loss function, optimizer and metrics"
   ]
  },
  {
   "cell_type": "code",
   "execution_count": 13,
   "metadata": {},
   "outputs": [],
   "source": [
    "network.compile(optimizer='rmsprop',\n",
    "               loss='categorical_crossentropy',\n",
    "               metrics=['accuracy'])"
   ]
  },
  {
   "cell_type": "markdown",
   "metadata": {},
   "source": [
    "Prepping the data, making it one dimensional on the pixel domain, scaling RGB values from 0 to 1"
   ]
  },
  {
   "cell_type": "code",
   "execution_count": 14,
   "metadata": {},
   "outputs": [
    {
     "data": {
      "text/plain": [
       "(60000, 28, 28)"
      ]
     },
     "execution_count": 14,
     "metadata": {},
     "output_type": "execute_result"
    }
   ],
   "source": [
    "train_images.shape"
   ]
  },
  {
   "cell_type": "code",
   "execution_count": 15,
   "metadata": {},
   "outputs": [
    {
     "data": {
      "text/plain": [
       "(60000, 784)"
      ]
     },
     "execution_count": 15,
     "metadata": {},
     "output_type": "execute_result"
    }
   ],
   "source": [
    "train_images=train_images.reshape(60000,28*28)\n",
    "train_images.shape"
   ]
  },
  {
   "cell_type": "code",
   "execution_count": 16,
   "metadata": {},
   "outputs": [],
   "source": [
    "train_images=train_images.astype('float32')/255"
   ]
  },
  {
   "cell_type": "code",
   "execution_count": 17,
   "metadata": {},
   "outputs": [],
   "source": [
    "test_images=test_images.reshape(10000,28*28)\n",
    "test_images.shape\n",
    "test_images=test_images.astype('float32')/255"
   ]
  },
  {
   "cell_type": "markdown",
   "metadata": {},
   "source": [
    "Do one-hot-encoding or turning into categorical values the labels for identifying the digits"
   ]
  },
  {
   "cell_type": "code",
   "execution_count": 18,
   "metadata": {},
   "outputs": [],
   "source": [
    "from keras.utils import to_categorical\n",
    "\n",
    "train_labels=to_categorical(train_labels)\n",
    "test_labels=to_categorical(test_labels)"
   ]
  },
  {
   "cell_type": "code",
   "execution_count": 19,
   "metadata": {},
   "outputs": [
    {
     "data": {
      "text/plain": [
       "(10000, 10)"
      ]
     },
     "execution_count": 19,
     "metadata": {},
     "output_type": "execute_result"
    }
   ],
   "source": [
    "test_labels.shape"
   ]
  },
  {
   "cell_type": "markdown",
   "metadata": {},
   "source": [
    "NOTE: See how this increased the dimensionality to use a binary indicator to identify a digit"
   ]
  },
  {
   "cell_type": "code",
   "execution_count": 20,
   "metadata": {},
   "outputs": [
    {
     "name": "stdout",
     "output_type": "stream",
     "text": [
      "WARNING:tensorflow:From C:\\Anaconda\\lib\\site-packages\\keras\\backend\\tensorflow_backend.py:422: The name tf.global_variables is deprecated. Please use tf.compat.v1.global_variables instead.\n",
      "\n",
      "Epoch 1/25\n",
      "60000/60000 [==============================] - 3s 55us/step - loss: 0.2230 - accuracy: 0.9313\n",
      "Epoch 2/25\n",
      "60000/60000 [==============================] - 3s 52us/step - loss: 0.0814 - accuracy: 0.9754\n",
      "Epoch 3/25\n",
      "60000/60000 [==============================] - 3s 52us/step - loss: 0.0544 - accuracy: 0.9835\n",
      "Epoch 4/25\n",
      "60000/60000 [==============================] - 3s 51us/step - loss: 0.0390 - accuracy: 0.9877\n",
      "Epoch 5/25\n",
      "60000/60000 [==============================] - 3s 51us/step - loss: 0.0299 - accuracy: 0.9905\n",
      "Epoch 6/25\n",
      "60000/60000 [==============================] - 3s 52us/step - loss: 0.0232 - accuracy: 0.9929\n",
      "Epoch 7/25\n",
      "60000/60000 [==============================] - 3s 56us/step - loss: 0.0183 - accuracy: 0.9939\n",
      "Epoch 8/25\n",
      "60000/60000 [==============================] - 3s 51us/step - loss: 0.0153 - accuracy: 0.9952\n",
      "Epoch 9/25\n",
      "60000/60000 [==============================] - 3s 51us/step - loss: 0.0124 - accuracy: 0.9963\n",
      "Epoch 10/25\n",
      "60000/60000 [==============================] - 3s 52us/step - loss: 0.0119 - accuracy: 0.9962\n",
      "Epoch 11/25\n",
      "60000/60000 [==============================] - 3s 52us/step - loss: 0.0105 - accuracy: 0.9970\n",
      "Epoch 12/25\n",
      "60000/60000 [==============================] - 3s 53us/step - loss: 0.0092 - accuracy: 0.9972\n",
      "Epoch 13/25\n",
      "60000/60000 [==============================] - 3s 51us/step - loss: 0.0093 - accuracy: 0.9972\n",
      "Epoch 14/25\n",
      "60000/60000 [==============================] - 3s 52us/step - loss: 0.0081 - accuracy: 0.9976\n",
      "Epoch 15/25\n",
      "60000/60000 [==============================] - 3s 53us/step - loss: 0.0088 - accuracy: 0.9977\n",
      "Epoch 16/25\n",
      "60000/60000 [==============================] - 3s 52us/step - loss: 0.0066 - accuracy: 0.9982\n",
      "Epoch 17/25\n",
      "60000/60000 [==============================] - 3s 53us/step - loss: 0.0062 - accuracy: 0.9983\n",
      "Epoch 18/25\n",
      "60000/60000 [==============================] - 3s 51us/step - loss: 0.0056 - accuracy: 0.9986\n",
      "Epoch 19/25\n",
      "60000/60000 [==============================] - 3s 51us/step - loss: 0.0053 - accuracy: 0.9985\n",
      "Epoch 20/25\n",
      "60000/60000 [==============================] - 3s 51us/step - loss: 0.0052 - accuracy: 0.9986\n",
      "Epoch 21/25\n",
      "60000/60000 [==============================] - 3s 52us/step - loss: 0.0055 - accuracy: 0.9986\n",
      "Epoch 22/25\n",
      "60000/60000 [==============================] - 3s 54us/step - loss: 0.0045 - accuracy: 0.9989\n",
      "Epoch 23/25\n",
      "60000/60000 [==============================] - 3s 52us/step - loss: 0.0038 - accuracy: 0.9990\n",
      "Epoch 24/25\n",
      "60000/60000 [==============================] - 3s 53us/step - loss: 0.0043 - accuracy: 0.9990\n",
      "Epoch 25/25\n",
      "60000/60000 [==============================] - 3s 51us/step - loss: 0.0043 - accuracy: 0.9989\n"
     ]
    },
    {
     "data": {
      "text/plain": [
       "<keras.callbacks.callbacks.History at 0x26576789cf8>"
      ]
     },
     "execution_count": 20,
     "metadata": {},
     "output_type": "execute_result"
    }
   ],
   "source": [
    "network.fit(train_images,train_labels, epochs=25, batch_size=128)"
   ]
  },
  {
   "cell_type": "code",
   "execution_count": 21,
   "metadata": {},
   "outputs": [
    {
     "name": "stdout",
     "output_type": "stream",
     "text": [
      "10000/10000 [==============================] - 1s 50us/step\n"
     ]
    }
   ],
   "source": [
    "test_loss, test_acc = network.evaluate(test_images, test_labels)"
   ]
  },
  {
   "cell_type": "code",
   "execution_count": 22,
   "metadata": {},
   "outputs": [
    {
     "name": "stdout",
     "output_type": "stream",
     "text": [
      "0.18201259261865868 0.9843000173568726\n"
     ]
    }
   ],
   "source": [
    "print(test_loss, test_acc)"
   ]
  },
  {
   "cell_type": "markdown",
   "metadata": {},
   "source": [
    "### Let's play around now. I made a list of handwritten digits on paint (with my handstyle), let's see if it can recognize them"
   ]
  },
  {
   "cell_type": "markdown",
   "metadata": {},
   "source": [
    "Open testing image"
   ]
  },
  {
   "cell_type": "code",
   "execution_count": 123,
   "metadata": {},
   "outputs": [
    {
     "name": "stdout",
     "output_type": "stream",
     "text": [
      "PNG (28, 28) RGBA\n"
     ]
    }
   ],
   "source": [
    "from PIL import Image, ImageOps\n",
    "\n",
    "im = Image.open(\"MNIST Testing 8c.png\")\n",
    "print(im.format, im.size, im.mode)"
   ]
  },
  {
   "cell_type": "markdown",
   "metadata": {},
   "source": [
    "Convert to greyscale"
   ]
  },
  {
   "cell_type": "code",
   "execution_count": 124,
   "metadata": {},
   "outputs": [
    {
     "name": "stdout",
     "output_type": "stream",
     "text": [
      "None (28, 28) L\n"
     ]
    }
   ],
   "source": [
    "im = im.convert(\"L\")\n",
    "print(im.format, im.size, im.mode)"
   ]
  },
  {
   "cell_type": "code",
   "execution_count": 125,
   "metadata": {},
   "outputs": [
    {
     "data": {
      "image/png": "[encoded data removed]",
      "text/plain": [
       "<PIL.Image.Image image mode=L size=28x28 at 0x26529C80898>"
      ]
     },
     "execution_count": 125,
     "metadata": {},
     "output_type": "execute_result"
    }
   ],
   "source": [
    "im"
   ]
  },
  {
   "cell_type": "code",
   "execution_count": 126,
   "metadata": {},
   "outputs": [
    {
     "data": {
      "text/plain": [
       "(28, 28)"
      ]
     },
     "execution_count": 126,
     "metadata": {},
     "output_type": "execute_result"
    }
   ],
   "source": [
    "import numpy as np\n",
    "im_mtx=np.asarray(im)\n",
    "im_mtx.shape"
   ]
  },
  {
   "cell_type": "code",
   "execution_count": 127,
   "metadata": {},
   "outputs": [
    {
     "data": {
      "image/png": "[encoded data removed]",
      "text/plain": [
       "<Figure size 432x288 with 1 Axes>"
      ]
     },
     "metadata": {
      "needs_background": "light"
     },
     "output_type": "display_data"
    }
   ],
   "source": [
    "import matplotlib.pyplot as plt\n",
    "plt.imshow(im_mtx, cmap=plt.cm.binary)\n",
    "plt.show()"
   ]
  },
  {
   "cell_type": "markdown",
   "metadata": {},
   "source": [
    "Convert greyscale image into binary matrix"
   ]
  },
  {
   "cell_type": "code",
   "execution_count": 128,
   "metadata": {},
   "outputs": [],
   "source": [
    "dnn_mtx=[]\n",
    "for row,i in enumerate(im_mtx):\n",
    "    for col,j in enumerate(i):\n",
    "        #print(row,col,j)\n",
    "        dnn_mtx.append(j/255)\n",
    "        #else:\n",
    "         #   dnn_mtx.append(1)\n",
    "        "
   ]
  },
  {
   "cell_type": "code",
   "execution_count": 129,
   "metadata": {},
   "outputs": [
    {
     "data": {
      "text/plain": [
       "784"
      ]
     },
     "execution_count": 129,
     "metadata": {},
     "output_type": "execute_result"
    }
   ],
   "source": [
    "len(dnn_mtx)"
   ]
  },
  {
   "cell_type": "markdown",
   "metadata": {},
   "source": [
    "Convert to numpy array and shape it so that it can be processed by dnn"
   ]
  },
  {
   "cell_type": "code",
   "execution_count": 130,
   "metadata": {},
   "outputs": [
    {
     "data": {
      "text/plain": [
       "(1, 784)"
      ]
     },
     "execution_count": 130,
     "metadata": {},
     "output_type": "execute_result"
    }
   ],
   "source": [
    "dnn_mtx=np.asarray(dnn_mtx)\n",
    "dnn_mtx=np.reshape(dnn_mtx, (1,784))\n",
    "dnn_mtx.shape"
   ]
  },
  {
   "cell_type": "markdown",
   "metadata": {},
   "source": [
    "Predict label using trained network"
   ]
  },
  {
   "cell_type": "code",
   "execution_count": 131,
   "metadata": {},
   "outputs": [],
   "source": [
    "res=network.predict(dnn_mtx)"
   ]
  },
  {
   "cell_type": "code",
   "execution_count": 132,
   "metadata": {},
   "outputs": [
    {
     "name": "stdout",
     "output_type": "stream",
     "text": [
      "0 7.7646959703386e-13\n",
      "1 1.7945324046197975e-11\n",
      "2 3.138668939347785e-13\n",
      "3 4.656776266681595e-11\n",
      "4 3.2360042481738554e-13\n",
      "5 3.7184907930587485e-10\n",
      "6 1.4894759037265004e-09\n",
      "7 1.6820330635739143e-15\n",
      "8 100.0\n",
      "9 3.5625270637142104e-12\n"
     ]
    }
   ],
   "source": [
    "for idx,i in enumerate(res[0]):\n",
    "    print(idx,i*100)"
   ]
  },
  {
   "cell_type": "markdown",
   "metadata": {},
   "source": [
    "**NOTE:** It seems the NN is not able to identify most of my handwritten digits!!! \n",
    "\n",
    "Things to observe:     \n",
    "  \n",
    " **1:** Neither thin line and thick line (no letter & b label) are identified correctly (YES, we are accounting for MNIST being black background, white numbers, we just invert the colors)  \n",
    " \n",
    " **2:** MNIST like images (c label) work better, but still unacceptable (1,4,6 failed)"
   ]
  }
 ],
 "metadata": {
  "kernelspec": {
   "display_name": "Python 3",
   "language": "python",
   "name": "python3"
  },
  "language_info": {
   "codemirror_mode": {
    "name": "ipython",
    "version": 3
   },
   "file_extension": ".py",
   "mimetype": "text/x-python",
   "name": "python",
   "nbconvert_exporter": "python",
   "pygments_lexer": "ipython3",
   "version": "3.7.3"
  }
 },
 "nbformat": 4,
 "nbformat_minor": 4
}
